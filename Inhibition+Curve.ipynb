{
 "cells": [
  {
   "cell_type": "markdown",
   "metadata": {},
   "source": [
    "## Inhibition Curve Generator \n",
    "#### Generate theoretical data for desired serial dilution ratio given LogIC50, Hillslope, Top, and Bottom for a known inhibition curve\n",
    "##### How to use this notebook:\n",
    "\n",
    "- Change **startConc** to desired starting concentration. \n",
    "- Change **nDilutions** to number of dilutions required.\n",
    "- Change **dilution** to desired dilution ratio (i.e dilution = 2 gives a 1:2 serial dilution)\n",
    "- Change **bottom** to minimum point of known inhibition curve\n",
    "- Change **top** to maximum point of a known inhibition curve\n",
    "- Change **logIC50** to LogIC50 of a known inhibition curve\n",
    "- Change **hillSlope** to HillSlope of a known inhibition curve\n",
    "\n",
    "\n",
    "\n"
   ]
  },
  {
   "cell_type": "code",
   "execution_count": 135,
   "metadata": {
    "collapsed": true
   },
   "outputs": [],
   "source": [
    "from IPython.display import display, HTML\n",
    "import pandas as pd\n",
    "import numpy as np\n",
    "import matplotlib.pyplot as plt\n",
    "%matplotlib inline"
   ]
  },
  {
   "cell_type": "markdown",
   "metadata": {},
   "source": [
    "## Change values here"
   ]
  },
  {
   "cell_type": "code",
   "execution_count": 136,
   "metadata": {
    "collapsed": true
   },
   "outputs": [],
   "source": [
    "startConc = 1000\n",
    "nDilutions = 10\n",
    "dilution = 2\n",
    "\n",
    "bottom = 22.33 \n",
    "top = 101.1 \n",
    "logIC50 = 4.286 \n",
    "hillSlope = -1.795 "
   ]
  },
  {
   "cell_type": "markdown",
   "metadata": {},
   "source": [
    "## Equations Used\n",
    "###### Transform X\n",
    "$x = Log_{10}(x)$ \n",
    "```python\n",
    "def logDilution(x):\n",
    "    return(np.log10(x))\n",
    "```\n",
    "\n",
    "###### Inhibition Response \n",
    "$y = \\frac{Bottom + (Top - Bottom)}{1 + 10^{(LogIC_{50}-x) * HillSlope}}$\n",
    "```python\n",
    "def inhibition(concentration, bottom, top, logIC50,hillSlope):\n",
    "    return bottom + (top - bottom)/(1+np.power(10,((logIC50-concentration) * hillSlope)))\n",
    "```"
   ]
  },
  {
   "cell_type": "code",
   "execution_count": 137,
   "metadata": {
    "collapsed": true
   },
   "outputs": [],
   "source": [
    "#convert to log\n",
    "def logDilution(x):\n",
    "    return(np.log10(x))\n",
    "\n",
    "#calculate response\n",
    "def inhibition(concentration, bottom, top, logIC50,hillSlope):\n",
    "    return bottom + (top - bottom)/(1+np.power(10,((logIC50-concentration) * hillSlope)))"
   ]
  },
  {
   "cell_type": "markdown",
   "metadata": {},
   "source": [
    "##### Flow of following code segment:\n",
    "1. Create a 1xN array of serial dilutions starting from first concentration \n",
    "2. Transform serial dilutions into $Log_{10}(x)$\n",
    "3. Calculate inhibition response for every transformed serial dilution"
   ]
  },
  {
   "cell_type": "code",
   "execution_count": 138,
   "metadata": {
    "collapsed": true
   },
   "outputs": [],
   "source": [
    "pdData2 =pd.DataFrame(data = {'Dilution_Factor': startConc*np.power(dilution, range(nDilutions))})\n",
    "pdData2['logx'] = logDilution(pdData2.Dilution_Factor)\n",
    "pdData2['response'] = pdData2.logx.apply(lambda x: inhibition(x,bottom,top,logIC50,hillSlope))"
   ]
  },
  {
   "cell_type": "code",
   "execution_count": 139,
   "metadata": {
    "collapsed": false
   },
   "outputs": [
    {
     "data": {
      "text/html": [
       "<table border=\"1\" class=\"dataframe\">\n",
       "  <thead>\n",
       "    <tr style=\"text-align: right;\">\n",
       "      <th></th>\n",
       "      <th>Dilution_Factor</th>\n",
       "      <th>logx</th>\n",
       "      <th>response</th>\n",
       "    </tr>\n",
       "  </thead>\n",
       "  <tbody>\n",
       "    <tr>\n",
       "      <th>0</th>\n",
       "      <td>1000</td>\n",
       "      <td>3.00000</td>\n",
       "      <td>100.714645</td>\n",
       "    </tr>\n",
       "    <tr>\n",
       "      <th>1</th>\n",
       "      <td>2000</td>\n",
       "      <td>3.30103</td>\n",
       "      <td>99.778725</td>\n",
       "    </tr>\n",
       "    <tr>\n",
       "      <th>2</th>\n",
       "      <td>4000</td>\n",
       "      <td>3.60206</td>\n",
       "      <td>96.697390</td>\n",
       "    </tr>\n",
       "    <tr>\n",
       "      <th>3</th>\n",
       "      <td>8000</td>\n",
       "      <td>3.90309</td>\n",
       "      <td>87.675651</td>\n",
       "    </tr>\n",
       "    <tr>\n",
       "      <th>4</th>\n",
       "      <td>16000</td>\n",
       "      <td>4.20412</td>\n",
       "      <td>68.316482</td>\n",
       "    </tr>\n",
       "    <tr>\n",
       "      <th>5</th>\n",
       "      <td>32000</td>\n",
       "      <td>4.50515</td>\n",
       "      <td>45.005098</td>\n",
       "    </tr>\n",
       "    <tr>\n",
       "      <th>6</th>\n",
       "      <td>64000</td>\n",
       "      <td>4.80618</td>\n",
       "      <td>30.548341</td>\n",
       "    </tr>\n",
       "    <tr>\n",
       "      <th>7</th>\n",
       "      <td>128000</td>\n",
       "      <td>5.10721</td>\n",
       "      <td>24.888290</td>\n",
       "    </tr>\n",
       "    <tr>\n",
       "      <th>8</th>\n",
       "      <td>256000</td>\n",
       "      <td>5.40824</td>\n",
       "      <td>23.084674</td>\n",
       "    </tr>\n",
       "    <tr>\n",
       "      <th>9</th>\n",
       "      <td>512000</td>\n",
       "      <td>5.70927</td>\n",
       "      <td>22.548969</td>\n",
       "    </tr>\n",
       "  </tbody>\n",
       "</table>"
      ],
      "text/plain": [
       "<IPython.core.display.HTML object>"
      ]
     },
     "execution_count": 139,
     "metadata": {},
     "output_type": "execute_result"
    }
   ],
   "source": [
    "HTML(pdData2.to_html())"
   ]
  },
  {
   "cell_type": "code",
   "execution_count": 140,
   "metadata": {
    "collapsed": false
   },
   "outputs": [
    {
     "data": {
      "image/png": "[encoded data removed]",
      "text/plain": [
       "<matplotlib.figure.Figure at 0xb67f978>"
      ]
     },
     "metadata": {},
     "output_type": "display_data"
    }
   ],
   "source": [
    "plt.plot(pdData2.logx, pdData2.response, 'ro')\n",
    "plt.plot(pdData2.logx, pdData2.response)\n",
    "plt.xscale('log')\n",
    "plt.xlabel('logx')\n",
    "plt.ylabel('response')\n",
    "plt.show()"
   ]
  }
 ],
 "metadata": {
  "kernelspec": {
   "display_name": "Python 3",
   "language": "python",
   "name": "python3"
  },
  "language_info": {
   "codemirror_mode": {
    "name": "ipython",
    "version": 3
   },
   "file_extension": ".py",
   "mimetype": "text/x-python",
   "name": "python",
   "nbconvert_exporter": "python",
   "pygments_lexer": "ipython3",
   "version": "3.6.0"
  }
 },
 "nbformat": 4,
 "nbformat_minor": 2
}
